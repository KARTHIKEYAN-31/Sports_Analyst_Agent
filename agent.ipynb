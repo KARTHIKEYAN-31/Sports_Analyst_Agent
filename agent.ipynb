{
 "cells": [
  {
   "cell_type": "markdown",
   "id": "6a77e441",
   "metadata": {},
   "source": [
    "## import libraries"
   ]
  },
  {
   "cell_type": "code",
   "execution_count": 1,
   "id": "5b88c6d5",
   "metadata": {},
   "outputs": [
    {
     "data": {
      "text/plain": [
       "True"
      ]
     },
     "execution_count": 1,
     "metadata": {},
     "output_type": "execute_result"
    }
   ],
   "source": [
    "import operator\n",
    "from typing import Annotated, Any\n",
    "from typing_extensions import TypedDict\n",
    "from langgraph.graph import StateGraph, START, END\n",
    "import os\n",
    "from dotenv import load_dotenv\n",
    "from langgraph.prebuilt import ToolNode \n",
    "from langgraph.types import Command\n",
    "from langgraph.types import interrupt\n",
    "from langgraph.checkpoint.memory import InMemorySaver\n",
    "from typing import Optional\n",
    "\n",
    "load_dotenv()\n",
    "\n"
   ]
  },
  {
   "cell_type": "markdown",
   "id": "5931ee81",
   "metadata": {},
   "source": [
    "## create DB"
   ]
  },
  {
   "cell_type": "code",
   "execution_count": 2,
   "id": "0e4adb38",
   "metadata": {},
   "outputs": [],
   "source": [
    "## create DB"
   ]
  },
  {
   "cell_type": "code",
   "execution_count": 3,
   "id": "04a58b37",
   "metadata": {},
   "outputs": [],
   "source": [
    "import sqlite3\n",
    "import os\n",
    "import random\n",
    "from datetime import date, timedelta\n",
    "DB_FILE = \"sports_data.db\"\n",
    "\n",
    "RONALDO_ID = 1\n",
    "MESSI_ID = 2\n",
    "NEYMAR_ID = 3\n",
    "\n",
    "def create_database_schema(cursor):\n",
    "  \"\"\"Creates the necessary tables for the sports database.\"\"\"\n",
    "  print(\"Creating database schema...\")\n",
    "  # Using INTEGER PRIMARY KEY for auto-incrementing ID in SQLite\n",
    "  cursor.execute('''\n",
    "              CREATE TABLE IF NOT EXISTS Teams (\n",
    "              team_id INTEGER PRIMARY KEY,\n",
    "              team_name VARCHAR(100) NOT NULL UNIQUE,\n",
    "              sport VARCHAR(50) NOT NULL\n",
    "              )''')\n",
    "\n",
    "  cursor.execute('''\n",
    "  CREATE TABLE IF NOT EXISTS Players (\n",
    "      player_id INTEGER PRIMARY KEY,\n",
    "      player_name VARCHAR(100) NOT NULL,\n",
    "      team_id INTEGER REFERENCES Teams(team_id),\n",
    "      position VARCHAR(50)\n",
    "  )''')\n",
    "\n",
    "  cursor.execute('''\n",
    "  CREATE TABLE IF NOT EXISTS Matches (\n",
    "      match_id INTEGER PRIMARY KEY,\n",
    "      match_date DATE NOT NULL,\n",
    "      home_team_id INTEGER REFERENCES Teams(team_id),\n",
    "      away_team_id INTEGER REFERENCES Teams(team_id),\n",
    "      home_score INTEGER,\n",
    "      away_score INTEGER,\n",
    "      venue VARCHAR(100)\n",
    "  )''')\n",
    "\n",
    "  cursor.execute('''\n",
    "  CREATE TABLE IF NOT EXISTS Player_Match_Stats (\n",
    "      stat_id INTEGER PRIMARY KEY,\n",
    "      player_id INTEGER REFERENCES Players(player_id),\n",
    "      match_id INTEGER REFERENCES Matches(match_id),\n",
    "      minutes_played INTEGER,\n",
    "      goals INTEGER,\n",
    "      assists INTEGER,\n",
    "      shots INTEGER,\n",
    "      shots_on_target INTEGER,\n",
    "      passing_accuracy FLOAT,\n",
    "      UNIQUE (player_id, match_id)\n",
    "  )''')\n",
    "  print(\"Schema created successfully.\")"
   ]
  },
  {
   "cell_type": "code",
   "execution_count": 4,
   "id": "4214a650",
   "metadata": {},
   "outputs": [],
   "source": [
    "def insert_base_data(cursor):\n",
    "  \"\"\"Inserts the players and their teams into the database.\"\"\"\n",
    "  print(\"Inserting base data (players and teams)...\")\n",
    "  teams = [\n",
    "  (1, 'Al-Nassr', 'Soccer'),\n",
    "  (2, 'Inter Miami CF', 'Soccer'),\n",
    "  (3, 'Al-Hilal SFC', 'Soccer'),\n",
    "  (4, 'Manchester United', 'Soccer'), # For opponent variety\n",
    "  (5, 'FC Barcelona', 'Soccer'), # For opponent variety\n",
    "  (6, 'Paris Saint-Germain', 'Soccer'), # For opponent variety\n",
    "  (7, 'Orlando City SC', 'Soccer'), # For opponent variety\n",
    "  (8, 'Al-Ittihad', 'Soccer') # For opponent variety\n",
    "  ]\n",
    "  # Use IGNORE to prevent errors if data already exists\n",
    "  cursor.executemany(\"INSERT OR IGNORE INTO Teams (team_id, team_name, sport) VALUES (?, ?, ?)\", teams)\n",
    "\n",
    "  players = [\n",
    "      (RONALDO_ID, 'Cristiano Ronaldo', 1, 'Forward'),\n",
    "      (MESSI_ID, 'Lionel Messi', 2, 'Forward'),\n",
    "      (NEYMAR_ID, 'Neymar Jr.', 3, 'Forward')\n",
    "  ]\n",
    "  cursor.executemany(\"INSERT OR IGNORE INTO Players (player_id, player_name, team_id, position) VALUES (?, ?, ?, ?)\", players)\n",
    "  print(\"Base data inserted.\")"
   ]
  },
  {
   "cell_type": "code",
   "execution_count": 5,
   "id": "b3a4be88",
   "metadata": {},
   "outputs": [],
   "source": [
    "def insert_mock_match_data(cursor):\n",
    "  \"\"\"Generates and inserts mock match and stat data for the players.\"\"\"\n",
    "  print(\"Generating and inserting mock match data...\")\n",
    "  match_id_counter = 1\n",
    "  stat_id_counter = 1\n",
    "  player_team_map = {\n",
    "      RONALDO_ID: 1,\n",
    "      MESSI_ID: 2,\n",
    "      NEYMAR_ID: 3\n",
    "  }\n",
    "\n",
    "  # Generate data for each player\n",
    "  for player_id in [RONALDO_ID, MESSI_ID, NEYMAR_ID]:\n",
    "      player_team_id = player_team_map[player_id]\n",
    "      # Generate 10 matches over the last 2 months\n",
    "      for i in range(10):\n",
    "          # --- 1. Create a Match ---\n",
    "          match_date = date.today() - timedelta(days=random.randint(i * 6, (i + 1) * 6))\n",
    "\n",
    "          # Decide if home or away game\n",
    "          is_home_game = random.choice([True, False])\n",
    "          opponent_team_id = random.choice([t[0] for t in teams if t[0] != player_team_id])\n",
    "\n",
    "          if is_home_game:\n",
    "              home_team_id, away_team_id = player_team_id, opponent_team_id\n",
    "              home_score, away_score = random.randint(1, 4), random.randint(0, 3)\n",
    "          else:\n",
    "              home_team_id, away_team_id = opponent_team_id, player_team_id\n",
    "              home_score, away_score = random.randint(0, 3), random.randint(1, 4)\n",
    "\n",
    "          match_data = (match_id_counter, str(match_date), home_team_id, away_team_id, home_score, away_score, \"Mock Stadium\")\n",
    "          cursor.execute(\"INSERT INTO Matches VALUES (?, ?, ?, ?, ?, ?, ?)\", match_data)\n",
    "\n",
    "          # --- 2. Create Player Stats for that Match ---\n",
    "          minutes_played = random.randint(75, 90)\n",
    "          goals = random.randint(0, 2)\n",
    "          assists = random.randint(0, 2)\n",
    "          shots = goals + random.randint(1, 5)\n",
    "          shots_on_target = goals + random.randint(0, shots - goals)\n",
    "          passing_accuracy = round(random.uniform(75.0, 95.0), 1)\n",
    "\n",
    "          stat_data = (stat_id_counter, player_id, match_id_counter, minutes_played, goals, assists, shots, shots_on_target, passing_accuracy)\n",
    "          cursor.execute(\"INSERT INTO Player_Match_Stats VALUES (?, ?, ?, ?, ?, ?, ?, ?, ?)\", stat_data)\n",
    "\n",
    "          # Increment counters\n",
    "          match_id_counter += 1\n",
    "          stat_id_counter += 1\n",
    "\n",
    "  print(f\"Inserted {match_id_counter - 1} matches and {stat_id_counter - 1} stat records.\")"
   ]
  },
  {
   "cell_type": "code",
   "execution_count": 6,
   "id": "f4a16e0f",
   "metadata": {},
   "outputs": [],
   "source": [
    "def main():\n",
    "  \"\"\"Main function to set up and populate the database.\"\"\"\n",
    "  # Delete old database file if it exists to start fresh\n",
    "  if os.path.exists(DB_FILE):\n",
    "    os.remove(DB_FILE)\n",
    "    print(f\"Removed existing database file: {DB_FILE}\")\n",
    "    # Connect to the SQLite database (this will create the file)\n",
    "  conn = None\n",
    "  try:\n",
    "      conn = sqlite3.connect(DB_FILE)\n",
    "      cursor = conn.cursor()\n",
    "\n",
    "      # Run the functions\n",
    "      create_database_schema(cursor)\n",
    "\n",
    "      # Fetch the list of teams to be used in mock data generation\n",
    "      global teams\n",
    "      teams = [(1, 'Al-Nassr'), (2, 'Inter Miami CF'), (3, 'Al-Hilal SFC'),\n",
    "              (4, 'Manchester United'), (5, 'FC Barcelona'), (6, 'Paris Saint-Germain'),\n",
    "              (7, 'Orlando City SC'), (8, 'Al-Ittihad')]\n",
    "\n",
    "      insert_base_data(cursor)\n",
    "      insert_mock_match_data(cursor)\n",
    "\n",
    "      # Commit the changes\n",
    "      conn.commit()\n",
    "      print(\"\\nDatabase created and populated successfully!\")\n",
    "\n",
    "  except sqlite3.Error as e:\n",
    "      print(f\"Database error: {e}\")\n",
    "  finally:\n",
    "      if conn:\n",
    "          conn.close()\n",
    "          print(\"Database connection closed.\")"
   ]
  },
  {
   "cell_type": "code",
   "execution_count": 7,
   "id": "83252aeb",
   "metadata": {},
   "outputs": [
    {
     "name": "stdout",
     "output_type": "stream",
     "text": [
      "Removed existing database file: sports_data.db\n",
      "Creating database schema...\n",
      "Schema created successfully.\n",
      "Inserting base data (players and teams)...\n",
      "Base data inserted.\n",
      "Generating and inserting mock match data...\n",
      "Inserted 30 matches and 30 stat records.\n",
      "\n",
      "Database created and populated successfully!\n",
      "Database connection closed.\n"
     ]
    }
   ],
   "source": [
    "main()"
   ]
  },
  {
   "cell_type": "markdown",
   "id": "bcfb7656",
   "metadata": {},
   "source": [
    "## sql agent"
   ]
  },
  {
   "cell_type": "code",
   "execution_count": 8,
   "id": "859cf2c8",
   "metadata": {},
   "outputs": [
    {
     "name": "stdout",
     "output_type": "stream",
     "text": [
      "sqlite\n",
      "['Matches', 'Player_Match_Stats', 'Players', 'Teams']\n"
     ]
    }
   ],
   "source": [
    "\n",
    "from langchain_community.utilities import SQLDatabase\n",
    "\n",
    "db = SQLDatabase.from_uri(\"sqlite:///sports_data.db\")\n",
    "print(db.dialect)\n",
    "print(db.get_usable_table_names())"
   ]
  },
  {
   "cell_type": "code",
   "execution_count": 9,
   "id": "a0b7bd38",
   "metadata": {},
   "outputs": [
    {
     "name": "stderr",
     "output_type": "stream",
     "text": [
      "c:\\Users\\Karthikeyan\\miniconda3\\envs\\agent\\Lib\\site-packages\\tqdm\\auto.py:21: TqdmWarning: IProgress not found. Please update jupyter and ipywidgets. See https://ipywidgets.readthedocs.io/en/stable/user_install.html\n",
      "  from .autonotebook import tqdm as notebook_tqdm\n"
     ]
    },
    {
     "name": "stdout",
     "output_type": "stream",
     "text": [
      "================================\u001b[1m System Message \u001b[0m================================\n",
      "\n",
      "\n",
      "Given an input question, create a syntactically correct \u001b[33;1m\u001b[1;3m{dialect}\u001b[0m query to\n",
      "run to help find the answer. Unless the user specifies in his question a\n",
      "specific number of examples they wish to obtain, always limit your query to\n",
      "at most \u001b[33;1m\u001b[1;3m{top_k}\u001b[0m results. You can order the results by a relevant column to\n",
      "return the most interesting examples in the database.\n",
      "\n",
      "Never query for all the columns from a specific table, only ask for a the\n",
      "few relevant columns given the question.\n",
      "\n",
      "Pay attention to use only the column names that you can see in the schema\n",
      "description. Be careful to not query for columns that do not exist. Also,\n",
      "pay attention to which column is in which table.\n",
      "\n",
      "Only use the following tables:\n",
      "\u001b[33;1m\u001b[1;3m{table_info}\u001b[0m\n",
      "\n",
      "================================\u001b[1m Human Message \u001b[0m=================================\n",
      "\n",
      "Question: \u001b[33;1m\u001b[1;3m{input}\u001b[0m\n"
     ]
    }
   ],
   "source": [
    "from typing_extensions import TypedDict\n",
    "from langgraph.graph.message import add_messages\n",
    "from langchain_core.messages import HumanMessage, AIMessage, AnyMessage, SystemMessage\n",
    "\n",
    "class State(TypedDict):\n",
    "    query: str\n",
    "    sql_result: str\n",
    "    messages: Annotated[list[AnyMessage], add_messages]\n",
    "\n",
    "import getpass\n",
    "import os\n",
    "from langchain_google_genai import ChatGoogleGenerativeAI\n",
    "\n",
    "\n",
    "\n",
    "from langchain.chat_models import init_chat_model\n",
    "\n",
    "llm = ChatGoogleGenerativeAI(model=\"gemini-2.0-flash-lite-001\")\n",
    "\n",
    "from langchain_core.prompts import ChatPromptTemplate\n",
    "\n",
    "system_message = \"\"\"\n",
    "Given an input question, create a syntactically correct {dialect} query to\n",
    "run to help find the answer. Unless the user specifies in his question a\n",
    "specific number of examples they wish to obtain, always limit your query to\n",
    "at most {top_k} results. You can order the results by a relevant column to\n",
    "return the most interesting examples in the database.\n",
    "\n",
    "Never query for all the columns from a specific table, only ask for a the\n",
    "few relevant columns given the question.\n",
    "\n",
    "Pay attention to use only the column names that you can see in the schema\n",
    "description. Be careful to not query for columns that do not exist. Also,\n",
    "pay attention to which column is in which table.\n",
    "\n",
    "Only use the following tables:\n",
    "{table_info}\n",
    "\"\"\"\n",
    "\n",
    "user_prompt = \"Question: {input}\"\n",
    "\n",
    "query_prompt_template = ChatPromptTemplate(\n",
    "    [(\"system\", system_message), (\"user\", user_prompt)]\n",
    ")\n",
    "\n",
    "for message in query_prompt_template.messages:\n",
    "    message.pretty_print()"
   ]
  },
  {
   "cell_type": "code",
   "execution_count": null,
   "id": "fa59cc2e",
   "metadata": {},
   "outputs": [
    {
     "data": {
      "image/png": "[encoded data removed]",
      "text/plain": [
       "<IPython.core.display.Image object>"
      ]
     },
     "metadata": {},
     "output_type": "display_data"
    }
   ],
   "source": [
    "from typing_extensions import Annotated\n",
    "import pydantic\n",
    "\n",
    "class QueryOutput(pydantic.BaseModel):\n",
    "    query: Annotated[str, \"SQL query\"]\n",
    "\n",
    "\n",
    "def write_query(state: State):\n",
    "    \"\"\"Generate SQL query to fetch information.\"\"\"\n",
    "    print(\"write query\")\n",
    "    prompt = query_prompt_template.invoke(\n",
    "        {\n",
    "            \"dialect\": db.dialect,\n",
    "            \"top_k\": 10,\n",
    "            \"table_info\": db.get_table_info(),\n",
    "            \"input\": state[\"messages\"][-1].content,\n",
    "        }\n",
    "    )\n",
    "    structured_llm = llm.with_structured_output(QueryOutput)\n",
    "    # print(prompt)\n",
    "    result = structured_llm.invoke(prompt)\n",
    "    # print(type(result))\n",
    "    return {\"query\": result.query}\n",
    "\n",
    "from langchain_community.tools.sql_database.tool import QuerySQLDatabaseTool\n",
    "\n",
    "\n",
    "def execute_query(state: State):\n",
    "    print(\"execute query\")\n",
    "    \"\"\"Execute SQL query.\"\"\"\n",
    "    execute_query_tool = QuerySQLDatabaseTool(db=db)\n",
    "    return {\"sql_result\": execute_query_tool.invoke(state[\"query\"])}\n",
    "\n",
    "def generate_answer(state: State):\n",
    "    print(\"generate answer\")\n",
    "    \"\"\"Answer question using retrieved information as context.\"\"\"\n",
    "    prompt = (\n",
    "        \"Given the following user question, corresponding SQL query, \"\n",
    "        \"and SQL result, answer the user question.\\n\\n\"\n",
    "        f\"Question: {state['messages'][-1].content}\\n\"\n",
    "        f\"SQL Query: {state['query']}\\n\"\n",
    "        f\"SQL Result: {state['sql_result']}\"\n",
    "    )\n",
    "    response = llm.invoke(prompt)\n",
    "    return {\"sql_result\": response.content}\n",
    "\n",
    "from langgraph.graph import START, StateGraph\n",
    "\n",
    "graph_builder = StateGraph(State).add_sequence(\n",
    "    [write_query, execute_query, generate_answer]\n",
    ")\n",
    "graph_builder.add_edge(START, \"write_query\")\n",
    "sql_agent = graph_builder.compile()\n",
    "\n",
    "from IPython.display import Image, display\n",
    "\n",
    "display(Image(sql_agent.get_graph().draw_mermaid_png()))"
   ]
  },
  {
   "cell_type": "code",
   "execution_count": 11,
   "id": "bac8b469",
   "metadata": {},
   "outputs": [
    {
     "name": "stdout",
     "output_type": "stream",
     "text": [
      "write query\n",
      "messages=[SystemMessage(content='\\nGiven an input question, create a syntactically correct sqlite query to\\nrun to help find the answer. Unless the user specifies in his question a\\nspecific number of examples they wish to obtain, always limit your query to\\nat most 10 results. You can order the results by a relevant column to\\nreturn the most interesting examples in the database.\\n\\nNever query for all the columns from a specific table, only ask for a the\\nfew relevant columns given the question.\\n\\nPay attention to use only the column names that you can see in the schema\\ndescription. Be careful to not query for columns that do not exist. Also,\\npay attention to which column is in which table.\\n\\nOnly use the following tables:\\n\\nCREATE TABLE \"Matches\" (\\n\\tmatch_id INTEGER, \\n\\tmatch_date DATE NOT NULL, \\n\\thome_team_id INTEGER, \\n\\taway_team_id INTEGER, \\n\\thome_score INTEGER, \\n\\taway_score INTEGER, \\n\\tvenue VARCHAR(100), \\n\\tPRIMARY KEY (match_id), \\n\\tFOREIGN KEY(away_team_id) REFERENCES \"Teams\" (team_id), \\n\\tFOREIGN KEY(home_team_id) REFERENCES \"Teams\" (team_id)\\n)\\n\\n/*\\n3 rows from Matches table:\\nmatch_id\\tmatch_date\\thome_team_id\\taway_team_id\\thome_score\\taway_score\\tvenue\\n1\\t2025-08-21\\t1\\t6\\t3\\t0\\tMock Stadium\\n2\\t2025-08-13\\t6\\t1\\t3\\t4\\tMock Stadium\\n3\\t2025-08-11\\t1\\t7\\t4\\t1\\tMock Stadium\\n*/\\n\\n\\nCREATE TABLE \"Player_Match_Stats\" (\\n\\tstat_id INTEGER, \\n\\tplayer_id INTEGER, \\n\\tmatch_id INTEGER, \\n\\tminutes_played INTEGER, \\n\\tgoals INTEGER, \\n\\tassists INTEGER, \\n\\tshots INTEGER, \\n\\tshots_on_target INTEGER, \\n\\tpassing_accuracy FLOAT, \\n\\tPRIMARY KEY (stat_id), \\n\\tFOREIGN KEY(match_id) REFERENCES \"Matches\" (match_id), \\n\\tFOREIGN KEY(player_id) REFERENCES \"Players\" (player_id), \\n\\tUNIQUE (player_id, match_id)\\n)\\n\\n/*\\n3 rows from Player_Match_Stats table:\\nstat_id\\tplayer_id\\tmatch_id\\tminutes_played\\tgoals\\tassists\\tshots\\tshots_on_target\\tpassing_accuracy\\n1\\t1\\t1\\t84\\t1\\t1\\t5\\t1\\t83.4\\n2\\t1\\t2\\t81\\t2\\t2\\t7\\t2\\t79.6\\n3\\t1\\t3\\t83\\t2\\t1\\t6\\t5\\t76.7\\n*/\\n\\n\\nCREATE TABLE \"Players\" (\\n\\tplayer_id INTEGER, \\n\\tplayer_name VARCHAR(100) NOT NULL, \\n\\tteam_id INTEGER, \\n\\tposition VARCHAR(50), \\n\\tPRIMARY KEY (player_id), \\n\\tFOREIGN KEY(team_id) REFERENCES \"Teams\" (team_id)\\n)\\n\\n/*\\n3 rows from Players table:\\nplayer_id\\tplayer_name\\tteam_id\\tposition\\n1\\tCristiano Ronaldo\\t1\\tForward\\n2\\tLionel Messi\\t2\\tForward\\n3\\tNeymar Jr.\\t3\\tForward\\n*/\\n\\n\\nCREATE TABLE \"Teams\" (\\n\\tteam_id INTEGER, \\n\\tteam_name VARCHAR(100) NOT NULL, \\n\\tsport VARCHAR(50) NOT NULL, \\n\\tPRIMARY KEY (team_id)\\n)\\n\\n/*\\n3 rows from Teams table:\\nteam_id\\tteam_name\\tsport\\n1\\tAl-Nassr\\tSoccer\\n2\\tInter Miami CF\\tSoccer\\n3\\tAl-Hilal SFC\\tSoccer\\n*/\\n', additional_kwargs={}, response_metadata={}), HumanMessage(content=\"Question: messi's match stats\", additional_kwargs={}, response_metadata={})]\n",
      "execute query\n",
      "generate answer\n"
     ]
    },
    {
     "data": {
      "text/plain": [
       "{'query': \"SELECT T1.match_id, T1.minutes_played, T1.goals, T1.assists, T1.shots, T1.shots_on_target, T1.passing_accuracy FROM Player_Match_Stats AS T1 INNER JOIN Players AS T2 ON T1.player_id = T2.player_id WHERE T2.player_name = 'Lionel Messi'\",\n",
       " 'sql_result': \"Lionel Messi's match stats include:\\n\\n*   Match ID: 11, Minutes Played: 81, Goals: 0, Assists: 0, Shots: 2, Shots on Target: 2, Passing Accuracy: 81.4%\\n*   Match ID: 12, Minutes Played: 84, Goals: 1, Assists: 2, Shots: 4, Shots on Target: 1, Passing Accuracy: 75.9%\\n*   Match ID: 13, Minutes Played: 89, Goals: 0, Assists: 2, Shots: 4, Shots on Target: 2, Passing Accuracy: 79.2%\\n*   Match ID: 14, Minutes Played: 75, Goals: 1, Assists: 0, Shots: 4, Shots on Target: 1, Passing Accuracy: 93.8%\\n*   Match ID: 15, Minutes Played: 83, Goals: 2, Assists: 2, Shots: 5, Shots on Target: 3, Passing Accuracy: 79.3%\\n*   Match ID: 16, Minutes Played: 88, Goals: 1, Assists: 0, Shots: 6, Shots on Target: 2, Passing Accuracy: 85.2%\\n*   Match ID: 17, Minutes Played: 78, Goals: 1, Assists: 2, Shots: 4, Shots on Target: 4, Passing Accuracy: 93.0%\\n*   Match ID: 18, Minutes Played: 76, Goals: 0, Assists: 1, Shots: 1, Shots on Target: 0, Passing Accuracy: 84.4%\\n*   Match ID: 19, Minutes Played: 77, Goals: 0, Assists: 0, Shots: 1, Shots on Target: 1, Passing Accuracy: 85.4%\\n*   Match ID: 20, Minutes Played: 84, Goals: 2, Assists: 2, Shots: 3, Shots on Target: 3, Passing Accuracy: 88.4%\",\n",
       " 'messages': [HumanMessage(content=\"messi's match stats\", additional_kwargs={}, response_metadata={}, id='53022e01-8051-44c0-bb79-04bf09380317')]}"
      ]
     },
     "execution_count": 11,
     "metadata": {},
     "output_type": "execute_result"
    }
   ],
   "source": [
    "sql_agent.invoke({\"messages\":[HumanMessage(content=\"messi's match stats\")]})"
   ]
  },
  {
   "cell_type": "code",
   "execution_count": null,
   "id": "d79707e4",
   "metadata": {},
   "outputs": [],
   "source": []
  },
  {
   "cell_type": "markdown",
   "id": "9a603f9f",
   "metadata": {},
   "source": []
  },
  {
   "cell_type": "markdown",
   "id": "99d2329a",
   "metadata": {},
   "source": [
    "## web search agent"
   ]
  },
  {
   "cell_type": "code",
   "execution_count": 12,
   "id": "e5dc7ee8",
   "metadata": {},
   "outputs": [],
   "source": [
    "from langchain_core.tools import tool\n",
    "import requests\n",
    "import json\n",
    "\n",
    "# NOTE: The ESPN API is not officially public. These endpoints are what the ESPN website uses.\n",
    "# They can change without notice. This is for demonstration purposes.\n",
    "# A more robust solution might involve a paid API like SportRadar.\n",
    "ESPN_NEWS_API_URL = \"http://site.api.espn.com/apis/site/v2/sports/{sport}/{league}/news\"\n",
    "\n",
    "@tool\n",
    "def espn_tool(sport: str, league: str, limit: int = 5) -> str:\n",
    "    \"\"\"\n",
    "    Fetches the latest sports news headlines for a given sport and league from the ESPN API.\n",
    "    For example, to get the latest NFL news, use sport='football' and league='nfl'.\n",
    "    To get the latest NBA news, use sport='basketball' and league='nba'.\n",
    "    To get the latest MLB news, use sport='baseball' and league='mlb'.\n",
    "    To get the latest Soccer news for the Premier League, use sport='soccer' and league='eng.1'.\n",
    "    \"\"\"\n",
    "    try:\n",
    "        url = ESPN_NEWS_API_URL.format(sport=sport, league=league)\n",
    "        params = {'limit': limit}\n",
    "        response = requests.get(url, params=params)\n",
    "        response.raise_for_status()  # Will raise an HTTPError for bad responses (4xx or 5xx)\n",
    "        \n",
    "        data = response.json()\n",
    "        articles = data.get('articles', [])\n",
    "        \n",
    "        if not articles:\n",
    "            return f\"No recent news found for {sport}/{league}.\"\n",
    "            \n",
    "        # Format the news for the LLM\n",
    "        formatted_news = []\n",
    "        for article in articles:\n",
    "            headline = article.get('headline', 'No Headline')\n",
    "            description = article.get('description', 'No Description')\n",
    "            link = article.get('links', {}).get('web', {}).get('href', '#')\n",
    "            formatted_news.append(f\"Headline: {headline}\\nSummary: {description}\\nLink: {link}\\n\")\n",
    "            \n",
    "        return \"\\n---\\n\".join(formatted_news)\n",
    "\n",
    "    except requests.exceptions.RequestException as e:\n",
    "        return f\"Error fetching news from ESPN API: {e}\"\n",
    "    except json.JSONDecodeError:\n",
    "        return \"Error: Failed to parse JSON response from ESPN API.\"\n",
    "    except Exception as e:\n",
    "        return f\"An unexpected error occurred: {e}\""
   ]
  },
  {
   "cell_type": "code",
   "execution_count": 13,
   "id": "bfc29961",
   "metadata": {},
   "outputs": [
    {
     "data": {
      "text/plain": [
       "'Headline: Transfer rumors, news: Man Utd\\'s Bruno wanted by Al Ittihad\\nSummary: Manchester United\\'s Bruno Fernandes is still attracting interest from the Saudi Pro League. Transfer Talk has the latest news, gossip and rumors.\\nLink: https://www.espn.com/soccer/story/_/id/46062328/transfer-rumors-news-man-utds-bruno-wanted-al-ittihad\\n\\n---\\nHeadline: Man United transfers: GK Lammens left out of Antwerp squad\\nSummary: Manchester United target goalkeeper Senne Lammens was left out of Royal Antwerp\\'s matchday squad for their Belgian Pro League clash on Sunday.\\nLink: https://www.espn.com/soccer/story/_/id/46062822/man-united-transfers-gk-senne-lammens-left-antwerp-squad\\n\\n---\\nHeadline: Arteta: Saka & Ødegaard injuries are negatives\\nSummary: Arsenal manager Mikel Arteta believes injuries to Bukayo Saka & Martin Ødegaard are \"negatives\" despite their 5-0 victory over Leeds.\\nLink: https://www.espn.com/video/clip?id=46062698\\n\\n---\\nHeadline: Summer transfer window: Grading big signings in men\\'s soccer\\nSummary: The window is open, clubs are doing business and players are on the move. Here is how we rate the biggest deals.\\nLink: https://www.espn.com/soccer/story/_/id/45342881/summer-transfer-window-grading-big-signings-mens-soccer\\n\\n---\\nHeadline: Tottenham stars laud Thomas Frank after impressive Man City win\\nSummary: Tottenham goal scorers João Palhinha and Brennan Johnson heaped praise on manager Thomas Frank after an impressive 2-0 win over Manchester City.\\nLink: https://www.espn.com/soccer/story/_/id/46056615/tottenham-stars-laud-thomas-frank-impressive-man-city-win\\n'"
      ]
     },
     "execution_count": 13,
     "metadata": {},
     "output_type": "execute_result"
    }
   ],
   "source": [
    "espn_tool.invoke({\"sport\": \"soccer\", \"league\": \"eng.1\", \"limit\": 5})"
   ]
  },
  {
   "cell_type": "code",
   "execution_count": 14,
   "id": "c4997602",
   "metadata": {},
   "outputs": [],
   "source": [
    "from langchain_tavily import TavilySearch\n",
    "from langgraph.prebuilt import create_react_agent\n",
    "\n",
    "# Initialize Tavily Search Tool\n",
    "tavily_search_tool = TavilySearch(\n",
    "    max_results=5,\n",
    "    topic=\"general\",\n",
    ")\n",
    "\n",
    "search_agent = create_react_agent(llm, [tavily_search_tool, espn_tool],\n",
    "                                  prompt=\"\"\"You are a sports analyst agent. You are given a question about sports news.\n",
    "perform the following steps:\n",
    "    - firstly search for the question in web using tavily search tool\n",
    "    - answer question based on the information obtained\n",
    "Note:\n",
    "    call espn_tool tool using leauge name and sport name gathered from search.\n",
    "give detailed answer, ignore error and give answer based on the information gathered like summary of the information\"\"\")"
   ]
  },
  {
   "cell_type": "code",
   "execution_count": 15,
   "id": "132026eb",
   "metadata": {},
   "outputs": [
    {
     "data": {
      "text/plain": [
       "{'messages': [HumanMessage(content=\"Tell me about messi's last match and compare with his last 5 performance\", additional_kwargs={}, response_metadata={}, id='2493b6d6-5dfc-473c-83cf-526ccdae0fa2'),\n",
       "  AIMessage(content='', additional_kwargs={'function_call': {'name': 'tavily_search', 'arguments': '{\"query\": \"Messi\\'s last match\"}'}}, response_metadata={'prompt_feedback': {'block_reason': 0, 'safety_ratings': []}, 'finish_reason': 'STOP', 'safety_ratings': []}, id='run--00d64c6e-e5d0-4855-8a31-7811f645eb90-0', tool_calls=[{'name': 'tavily_search', 'args': {'query': \"Messi's last match\"}, 'id': 'c88d5077-784f-4ecd-942f-4e8ed8049e2c', 'type': 'tool_call'}], usage_metadata={'input_tokens': 1307, 'output_tokens': 10, 'total_tokens': 1317, 'input_token_details': {'cache_read': 0}}),\n",
       "  ToolMessage(content='{\"query\": \"Messi\\'s last match\", \"follow_up_questions\": null, \"answer\": null, \"images\": [], \"results\": [{\"url\": \"https://www.threads.com/@soccergenic/post/DNgkky6PxFA/lionel-messi-will-play-his-last-official-match-at-buenos-aires-on-september-4th-\", \"title\": \"Lionel Messi will play his last Official Match at Buenos Aires on ...\", \"content\": \"# Thread Lionel Messi will play his last Official Match at Buenos Aires on September 4th 🇦🇷💔“If nothing unusual happens, Argentina’s upcoming game against Venezuela on September 4 will be Leo Messi’s last official match with the National Team in Buenos Aires.” He is, this will be his last match at Beunos Aires. This has to be fake Last match \\'at Beunos Aires\\'... Related threads I really like this comment by Democratic primary candidate Platner, who is running against Susan Collins in Maine.\\\\\"I\\'m not fooled by this fake charade of Collins\\' deliberations and moderation. The difference between Susan Collins and Ted Cruz is at least Ted Cruz is honest about selling us out and not giving a damn.\\\\\"\", \"score\": 0.85825616, \"raw_content\": null}, {\"url\": \"https://www.instagram.com/p/DNgkkEdvtl5/\", \"title\": \"Lionel Messi will play his last Official Match at Buenos Aires on ...\", \"content\": \"May be an image of 2 people, people playing football, people playing soccer, stadium and text that says \\'Rainbet Gamble GambleResponsibly#AD Responsibly #AD .e SG etisalat abi SPORTE etisalat All About Argentina @AlbicelesteTalk \\\\\"If nothing unusual happens, Argentina\\'s upcoming game against Venezuela on September 4 will be Leo Messi\\'s last official match with the National Team in Buenos Aires.\\\\\" @DSports Leo Messi\\'s last game យោយដោះរ at Buenos Aires\\'. May be an image of 4 people, people playing football, people playing soccer, card, poster, magazine, stadium and text that says \\'Rainbet Gamble GambleResponsibly#AD Responsibly #AD SG 超政分 2024: PENALTY MISS IN CR7\\'S LAST EURO CUP 8.3 79 79JoaoFélix Joao JoaoFéli Félix 2025: 2025:FIRST FIRST AL-NASSR GOAL SET UP BY RONALDO\\'.\", \"score\": 0.8080827, \"raw_content\": null}, {\"url\": \"https://www.indulgexpress.com/entertainment/sports-entertainment/2025/Aug/19/lionel-messi-to-play-his-last-match-with-argentina-on-home-soil-in-september-report\", \"title\": \"Lionel Messi to play his last match with Argentina on September\", \"content\": \"World Cup winning Argentine captain Lionel Messi may play his final match for national team on home soilX Argentine captain Lionel Messi will probably play his final official match for the national team on home ground on September 5 at 5am (IST), when the Albiceleste host Venezuela for the 2026 World Cup Qualifiers at the famous Estadio Monumental, Buenos Aires. ## Will Messi play in the upcoming 2026 FIFA World Cup? Argentina, under the powerful captaincy of Lionel Messi and skilful guidance of coach Lionel Scaloni, clinched the golden trophy at the previous edition of World Cup after a long, 36 year wait.\", \"score\": 0.80771893, \"raw_content\": null}, {\"url\": \"https://www.facebook.com/AZRorganization/posts/-argentinas-match-against-venezuela-on-september-4-will-be-lionel-messis-last-of/1209159767906139/\", \"title\": \"Argentina\\'s match against Venezuela on September 4 will be Lionel ...\", \"content\": \"Argentina\\'s match against Venezuela on September 4 will be Lionel Messi\\'s LAST \\\\\"OFFICIAL MATCH\\\\\" with the national team in front of his home\", \"score\": 0.7872945, \"raw_content\": null}, {\"url\": \"https://www.whoscored.com/players/11119/fixtures/lionel-messi\", \"title\": \"Lionel Messi Match History | WhoScored.com\", \"content\": \"Lionel Messi Match History | WhoScored.com  Image 5 Image 6 Image 9 Image 10 Image 11 Image 12 Image 13 Image 14 Image 17 Image 18 Image 19 Image 20Lionel Messi Image 21 Current Team: Inter Miami CF Lionel Messi\\'s Match History Inter Miami CF Inter Miami CF Inter Miami CF Inter Miami CF Inter Miami CFNew York City FC Inter Miami CF Inter Miami CF Inter Miami CF Inter Miami CFToronto FC Inter Miami CF Inter Miami CF Inter Miami CF Inter Miami CF Minnesota UnitedInter Miami CF Inter Miami CF Inter Miami CF Inter Miami CF Inter Miami CF Inter Miami CF Inter Miami CF Inter Miami CF Inter Miami CF Inter Miami CF Image 28 Image 29\", \"score\": 0.40288594, \"raw_content\": null}], \"response_time\": 0.99, \"request_id\": \"49b3d41c-0fcd-4eec-8bd4-99a918caf16e\"}', name='tavily_search', id='d0365784-5da3-4019-ae8f-3847cdfdc969', tool_call_id='c88d5077-784f-4ecd-942f-4e8ed8049e2c'),\n",
       "  AIMessage(content=\"I am sorry, I cannot provide information about Messi's last match and compare it with his last 5 performances. The search results provide information about his potential last match in Buenos Aires, but I do not have access to real-time sports data to give you the specific details and comparisons you requested.\", additional_kwargs={}, response_metadata={'prompt_feedback': {'block_reason': 0, 'safety_ratings': []}, 'finish_reason': 'STOP', 'safety_ratings': []}, id='run--add7a9b0-1a01-4935-b090-e1587f3a78aa-0', usage_metadata={'input_tokens': 2380, 'output_tokens': 62, 'total_tokens': 2442, 'input_token_details': {'cache_read': 0}})]}"
      ]
     },
     "execution_count": 15,
     "metadata": {},
     "output_type": "execute_result"
    }
   ],
   "source": [
    "search_agent.invoke({\"messages\":[HumanMessage(content=\"Tell me about messi's last match and compare with his last 5 performance\")]})"
   ]
  },
  {
   "cell_type": "markdown",
   "id": "3d47f231",
   "metadata": {},
   "source": [
    "## Sports Analyst Agent"
   ]
  },
  {
   "cell_type": "code",
   "execution_count": 28,
   "id": "34fa2b8d",
   "metadata": {},
   "outputs": [],
   "source": [
    "class SportState(TypedDict):\n",
    "    messages: Annotated[list[AnyMessage], add_messages]\n",
    "    sql_result: Optional[str]\n",
    "    search_result: Optional[str]\n",
    "    \n",
    "\n"
   ]
  },
  {
   "cell_type": "code",
   "execution_count": 37,
   "id": "383c2a31",
   "metadata": {},
   "outputs": [],
   "source": [
    "def search_llm(state: SportState):\n",
    "    print(\"---calling search agent---\")\n",
    "    response = search_agent.invoke({\"messages\":[HumanMessage(content=state[\"messages\"][-1].content)]})\n",
    "    return {\"search_result\": response[\"messages\"][-1].content}\n",
    "\n"
   ]
  },
  {
   "cell_type": "code",
   "execution_count": 38,
   "id": "ee442d8d",
   "metadata": {},
   "outputs": [],
   "source": [
    "class answer_with_query(pydantic.BaseModel):\n",
    "    answer: Annotated[str, \"Answer or summary or stats for the given question based on the extracted information\"]\n",
    "    query: Annotated[list[str], \"Question to ask to the user which can be answered from the extracted information\"]"
   ]
  },
  {
   "cell_type": "code",
   "execution_count": 50,
   "id": "211f8d04",
   "metadata": {},
   "outputs": [],
   "source": [
    "class IsContinue(pydantic.BaseModel):\n",
    "    is_continue: Annotated[bool, \"Whether to continue the conversation or not\"]"
   ]
  },
  {
   "cell_type": "code",
   "execution_count": null,
   "id": "45d17468",
   "metadata": {},
   "outputs": [],
   "source": [
    "\n",
    "\n",
    "def analyst_node(state: SportState):\n",
    "    print(\"---Analyst Node---\")\n",
    "    # print(state)\n",
    "    input = [\n",
    "        SystemMessage(content=f\"\"\"You are a sports analyst. Based on the information extracted form web search and internal datatabase,\n",
    "answer the question by performing analysis. Return a well defined last match stats or summary and a historical matches comparison table.\n",
    "Along with that suggest some question that can be answered from the extracted information.\n",
    "Information from Web Search:\n",
    "{state['search_result']}\n",
    "Informaiton from Internal Database:\n",
    "{state['sql_result']} \n",
    "Note:\n",
    "    The answer must contain the summary and stats of the last match with a table to show stats.      \n",
    "        \"\"\"),\n",
    "        HumanMessage(content=state[\"messages\"][-1].content),\n",
    "    ]\n",
    "\n",
    "    response = llm.with_structured_output(answer_with_query).invoke(input)\n",
    "\n",
    "    \n",
    "    feedback = interrupt(\n",
    "        {\n",
    "            \"question\": response.query,\n",
    "            \"answer\": response.answer,\n",
    "        }\n",
    "    )\n",
    "\n",
    "    is_continue = llm.with_structured_output(IsContinue).invoke(feedback[\"feedback\"])\n",
    "\n",
    "    \n",
    "    \n",
    "    if is_continue.is_continue:\n",
    "        update_message = {\n",
    "                \"messaages\":[AIMessage(content=response.answer), HumanMessage(content=response.query)]\n",
    "            }\n",
    "        return Command(\n",
    "            goto = \"analyst_node\",\n",
    "            update = update_message\n",
    "        )\n",
    "    else:\n",
    "        update_message = {\n",
    "                \"messaages\":[AIMessage(content=response.answer)]\n",
    "            }\n",
    "        return Command(\n",
    "            goto = END,\n",
    "            update = update_message\n",
    "        )\n"
   ]
  },
  {
   "cell_type": "code",
   "execution_count": 57,
   "id": "00801260",
   "metadata": {},
   "outputs": [
    {
     "data": {
      "image/png": "[encoded data removed]",
      "text/plain": [
       "<IPython.core.display.Image object>"
      ]
     },
     "metadata": {},
     "output_type": "display_data"
    }
   ],
   "source": [
    "builder = StateGraph(SportState)\n",
    "builder.add_node(\"sql_agent\", sql_agent)\n",
    "builder.add_node(\"search_agent\", search_llm)\n",
    "builder.add_node(\"analyst_node\", analyst_node)\n",
    "\n",
    "builder.add_edge(START, \"sql_agent\")\n",
    "builder.add_edge(START, \"search_agent\")\n",
    "builder.add_edge(\"sql_agent\", \"analyst_node\")\n",
    "builder.add_edge(\"search_agent\", \"analyst_node\")\n",
    "\n",
    "\n",
    "sports_analyst_agent = builder.compile(checkpointer=InMemorySaver())\n",
    "\n",
    "from IPython.display import Image, display\n",
    "\n",
    "display(Image(sports_analyst_agent.get_graph().draw_mermaid_png()))\n"
   ]
  },
  {
   "cell_type": "code",
   "execution_count": 58,
   "id": "4771582d",
   "metadata": {},
   "outputs": [],
   "source": [
    "thread_config = {\"configurable\": {\"thread_id\": \"1\"}}"
   ]
  },
  {
   "cell_type": "code",
   "execution_count": 59,
   "id": "3f75688e",
   "metadata": {},
   "outputs": [
    {
     "name": "stdout",
     "output_type": "stream",
     "text": [
      "---calling search agent---\n",
      "write query\n",
      "messages=[SystemMessage(content='\\nGiven an input question, create a syntactically correct sqlite query to\\nrun to help find the answer. Unless the user specifies in his question a\\nspecific number of examples they wish to obtain, always limit your query to\\nat most 10 results. You can order the results by a relevant column to\\nreturn the most interesting examples in the database.\\n\\nNever query for all the columns from a specific table, only ask for a the\\nfew relevant columns given the question.\\n\\nPay attention to use only the column names that you can see in the schema\\ndescription. Be careful to not query for columns that do not exist. Also,\\npay attention to which column is in which table.\\n\\nOnly use the following tables:\\n\\nCREATE TABLE \"Matches\" (\\n\\tmatch_id INTEGER, \\n\\tmatch_date DATE NOT NULL, \\n\\thome_team_id INTEGER, \\n\\taway_team_id INTEGER, \\n\\thome_score INTEGER, \\n\\taway_score INTEGER, \\n\\tvenue VARCHAR(100), \\n\\tPRIMARY KEY (match_id), \\n\\tFOREIGN KEY(away_team_id) REFERENCES \"Teams\" (team_id), \\n\\tFOREIGN KEY(home_team_id) REFERENCES \"Teams\" (team_id)\\n)\\n\\n/*\\n3 rows from Matches table:\\nmatch_id\\tmatch_date\\thome_team_id\\taway_team_id\\thome_score\\taway_score\\tvenue\\n1\\t2025-08-21\\t1\\t6\\t3\\t0\\tMock Stadium\\n2\\t2025-08-13\\t6\\t1\\t3\\t4\\tMock Stadium\\n3\\t2025-08-11\\t1\\t7\\t4\\t1\\tMock Stadium\\n*/\\n\\n\\nCREATE TABLE \"Player_Match_Stats\" (\\n\\tstat_id INTEGER, \\n\\tplayer_id INTEGER, \\n\\tmatch_id INTEGER, \\n\\tminutes_played INTEGER, \\n\\tgoals INTEGER, \\n\\tassists INTEGER, \\n\\tshots INTEGER, \\n\\tshots_on_target INTEGER, \\n\\tpassing_accuracy FLOAT, \\n\\tPRIMARY KEY (stat_id), \\n\\tFOREIGN KEY(match_id) REFERENCES \"Matches\" (match_id), \\n\\tFOREIGN KEY(player_id) REFERENCES \"Players\" (player_id), \\n\\tUNIQUE (player_id, match_id)\\n)\\n\\n/*\\n3 rows from Player_Match_Stats table:\\nstat_id\\tplayer_id\\tmatch_id\\tminutes_played\\tgoals\\tassists\\tshots\\tshots_on_target\\tpassing_accuracy\\n1\\t1\\t1\\t84\\t1\\t1\\t5\\t1\\t83.4\\n2\\t1\\t2\\t81\\t2\\t2\\t7\\t2\\t79.6\\n3\\t1\\t3\\t83\\t2\\t1\\t6\\t5\\t76.7\\n*/\\n\\n\\nCREATE TABLE \"Players\" (\\n\\tplayer_id INTEGER, \\n\\tplayer_name VARCHAR(100) NOT NULL, \\n\\tteam_id INTEGER, \\n\\tposition VARCHAR(50), \\n\\tPRIMARY KEY (player_id), \\n\\tFOREIGN KEY(team_id) REFERENCES \"Teams\" (team_id)\\n)\\n\\n/*\\n3 rows from Players table:\\nplayer_id\\tplayer_name\\tteam_id\\tposition\\n1\\tCristiano Ronaldo\\t1\\tForward\\n2\\tLionel Messi\\t2\\tForward\\n3\\tNeymar Jr.\\t3\\tForward\\n*/\\n\\n\\nCREATE TABLE \"Teams\" (\\n\\tteam_id INTEGER, \\n\\tteam_name VARCHAR(100) NOT NULL, \\n\\tsport VARCHAR(50) NOT NULL, \\n\\tPRIMARY KEY (team_id)\\n)\\n\\n/*\\n3 rows from Teams table:\\nteam_id\\tteam_name\\tsport\\n1\\tAl-Nassr\\tSoccer\\n2\\tInter Miami CF\\tSoccer\\n3\\tAl-Hilal SFC\\tSoccer\\n*/\\n', additional_kwargs={}, response_metadata={}), HumanMessage(content='Question: Tell me about Lionel Messi’s last match and compare with his last 5 performances.', additional_kwargs={}, response_metadata={})]\n",
      "execute query\n",
      "generate answer\n",
      "---Analyst Node---\n",
      "{'messages': [HumanMessage(content='Tell me about Lionel Messi’s last match and compare with his last 5 performances.', additional_kwargs={}, response_metadata={}, id='d7543fa2-65cd-448e-bfde-14623b1280b6')], 'sql_result': 'The SQL query failed due to an \"ambiguous column name\" error. This means that the `match_id` column exists in both the `Matches` and `Player_Match_Stats` tables, and the query doesn\\'t specify which table to take it from.\\n\\nTo fix this, we need to explicitly specify the table for the `match_id` column in the SELECT statement.  We also need to select more information to compare performances. Here\\'s a revised SQL query that addresses the ambiguity and tries to retrieve relevant performance data:\\n\\nRevised SQL Query (to retrieve last match and compare with last 5, assuming relevant stats exist):\\n```sql\\nSELECT\\n    M.match_id,\\n    M.match_date,\\n    PMS.goals,\\n    PMS.assists,\\n    PMS.minutes_played,\\n    (SELECT match_date FROM Matches AS M2 JOIN Player_Match_Stats AS PMS2 ON M2.match_id = PMS2.match_id JOIN Players AS P2 ON PMS2.player_id = P2.player_id WHERE P2.player_name = \\'Lionel Messi\\' AND M2.match_date < M.match_date ORDER BY M2.match_date DESC LIMIT 5) AS last_5_matches\\nFROM\\n    Matches AS M\\nJOIN\\n    Player_Match_Stats AS PMS ON M.match_id = PMS.match_id\\nJOIN\\n    Players AS P ON PMS.player_id = P.player_id\\nWHERE\\n    P.player_name = \\'Lionel Messi\\'\\nORDER BY\\n    M.match_date DESC\\nLIMIT 1;\\n```\\n\\nThis query does the following:\\n\\n1.  **Specifies Table for `match_id` and `match_date`:**  Uses `M.match_id` and `M.match_date` to avoid ambiguity.\\n2.  **Joins all tables:**  Joins `Matches`, `Player_Match_Stats`, and `Players` to link match information, player statistics, and player names.\\n3.  **Filters for Lionel Messi:**  Uses `WHERE P.player_name = \\'Lionel Messi\\'` to focus on Messi\\'s matches.\\n4.  **Orders by date:** Orders the results by `match_date` in descending order to get the most recent match first.\\n5.  **Limits to the last match:** Limits the results to 1 to get only the last match.\\n6.  **Selects Performance Data:** Selects `goals`, `assists`, and `minutes_played` (you can add more stats as needed) to analyze performance.\\n7.  **Subquery for Last 5 Matches:** Includes a subquery to attempt to pull the dates of the previous 5 matches.  This is a starting point; the optimal way to compare performance would depend on what specific stats are available in the `Player_Match_Stats` table. The subquery could be expanded to include the relevant statistics for the last 5 matches.\\n\\n**Note:** The results of the original query could not be provided because the query failed. To answer the question, the database needs to be queried with a functional SQL query. With the revised query and the actual data in the tables, I could provide a more complete answer.', 'search_result': \"Based on the search results, it appears there's some speculation about Lionel Messi's last match for Argentina. Some reports suggest his final official match on home soil might be against Venezuela on September 5th. However, to get the most accurate information about his recent performances, including his last match and a comparison with his previous five, I need to consult a sports database. Unfortunately, I don't have access to that kind of real-time, detailed sports statistics.\"}\n"
     ]
    },
    {
     "data": {
      "text/plain": [
       "{'messages': [HumanMessage(content='Tell me about Lionel Messi’s last match and compare with his last 5 performances.', additional_kwargs={}, response_metadata={}, id='d7543fa2-65cd-448e-bfde-14623b1280b6')],\n",
       " 'sql_result': 'The SQL query failed due to an \"ambiguous column name\" error. This means that the `match_id` column exists in both the `Matches` and `Player_Match_Stats` tables, and the query doesn\\'t specify which table to take it from.\\n\\nTo fix this, we need to explicitly specify the table for the `match_id` column in the SELECT statement.  We also need to select more information to compare performances. Here\\'s a revised SQL query that addresses the ambiguity and tries to retrieve relevant performance data:\\n\\nRevised SQL Query (to retrieve last match and compare with last 5, assuming relevant stats exist):\\n```sql\\nSELECT\\n    M.match_id,\\n    M.match_date,\\n    PMS.goals,\\n    PMS.assists,\\n    PMS.minutes_played,\\n    (SELECT match_date FROM Matches AS M2 JOIN Player_Match_Stats AS PMS2 ON M2.match_id = PMS2.match_id JOIN Players AS P2 ON PMS2.player_id = P2.player_id WHERE P2.player_name = \\'Lionel Messi\\' AND M2.match_date < M.match_date ORDER BY M2.match_date DESC LIMIT 5) AS last_5_matches\\nFROM\\n    Matches AS M\\nJOIN\\n    Player_Match_Stats AS PMS ON M.match_id = PMS.match_id\\nJOIN\\n    Players AS P ON PMS.player_id = P.player_id\\nWHERE\\n    P.player_name = \\'Lionel Messi\\'\\nORDER BY\\n    M.match_date DESC\\nLIMIT 1;\\n```\\n\\nThis query does the following:\\n\\n1.  **Specifies Table for `match_id` and `match_date`:**  Uses `M.match_id` and `M.match_date` to avoid ambiguity.\\n2.  **Joins all tables:**  Joins `Matches`, `Player_Match_Stats`, and `Players` to link match information, player statistics, and player names.\\n3.  **Filters for Lionel Messi:**  Uses `WHERE P.player_name = \\'Lionel Messi\\'` to focus on Messi\\'s matches.\\n4.  **Orders by date:** Orders the results by `match_date` in descending order to get the most recent match first.\\n5.  **Limits to the last match:** Limits the results to 1 to get only the last match.\\n6.  **Selects Performance Data:** Selects `goals`, `assists`, and `minutes_played` (you can add more stats as needed) to analyze performance.\\n7.  **Subquery for Last 5 Matches:** Includes a subquery to attempt to pull the dates of the previous 5 matches.  This is a starting point; the optimal way to compare performance would depend on what specific stats are available in the `Player_Match_Stats` table. The subquery could be expanded to include the relevant statistics for the last 5 matches.\\n\\n**Note:** The results of the original query could not be provided because the query failed. To answer the question, the database needs to be queried with a functional SQL query. With the revised query and the actual data in the tables, I could provide a more complete answer.',\n",
       " 'search_result': \"Based on the search results, it appears there's some speculation about Lionel Messi's last match for Argentina. Some reports suggest his final official match on home soil might be against Venezuela on September 5th. However, to get the most accurate information about his recent performances, including his last match and a comparison with his previous five, I need to consult a sports database. Unfortunately, I don't have access to that kind of real-time, detailed sports statistics.\",\n",
       " '__interrupt__': [Interrupt(value={'question': [\"Lionel Messi's last match stats\", 'compare with last 5 matches'], 'answer': 'I am sorry, I cannot provide the last match stats and a comparison table at this moment. The SQL query failed to retrieve the necessary information from the database. To provide the requested information, I would need a functional SQL query and access to the database with the relevant data.'}, resumable=True, ns=['analyst_node:c3954fc9-6066-7083-8549-ece351f62e37'])]}"
      ]
     },
     "execution_count": 59,
     "metadata": {},
     "output_type": "execute_result"
    }
   ],
   "source": [
    "sports_analyst_agent.invoke({\"messages\":[HumanMessage(content=\"Tell me about Lionel Messi’s last match and compare with his last 5 performances.\")],\n",
    "                             \"sql_result\":\"\", \"search_result\":\"\"}, config = thread_config\n",
    "                            )"
   ]
  },
  {
   "cell_type": "code",
   "execution_count": 60,
   "id": "6dc504ae",
   "metadata": {},
   "outputs": [
    {
     "name": "stdout",
     "output_type": "stream",
     "text": [
      "---Analyst Node---\n",
      "{'messages': [HumanMessage(content='Tell me about Lionel Messi’s last match and compare with his last 5 performances.', additional_kwargs={}, response_metadata={}, id='d7543fa2-65cd-448e-bfde-14623b1280b6')], 'sql_result': 'The SQL query failed due to an \"ambiguous column name\" error. This means that the `match_id` column exists in both the `Matches` and `Player_Match_Stats` tables, and the query doesn\\'t specify which table to take it from.\\n\\nTo fix this, we need to explicitly specify the table for the `match_id` column in the SELECT statement.  We also need to select more information to compare performances. Here\\'s a revised SQL query that addresses the ambiguity and tries to retrieve relevant performance data:\\n\\nRevised SQL Query (to retrieve last match and compare with last 5, assuming relevant stats exist):\\n```sql\\nSELECT\\n    M.match_id,\\n    M.match_date,\\n    PMS.goals,\\n    PMS.assists,\\n    PMS.minutes_played,\\n    (SELECT match_date FROM Matches AS M2 JOIN Player_Match_Stats AS PMS2 ON M2.match_id = PMS2.match_id JOIN Players AS P2 ON PMS2.player_id = P2.player_id WHERE P2.player_name = \\'Lionel Messi\\' AND M2.match_date < M.match_date ORDER BY M2.match_date DESC LIMIT 5) AS last_5_matches\\nFROM\\n    Matches AS M\\nJOIN\\n    Player_Match_Stats AS PMS ON M.match_id = PMS.match_id\\nJOIN\\n    Players AS P ON PMS.player_id = P.player_id\\nWHERE\\n    P.player_name = \\'Lionel Messi\\'\\nORDER BY\\n    M.match_date DESC\\nLIMIT 1;\\n```\\n\\nThis query does the following:\\n\\n1.  **Specifies Table for `match_id` and `match_date`:**  Uses `M.match_id` and `M.match_date` to avoid ambiguity.\\n2.  **Joins all tables:**  Joins `Matches`, `Player_Match_Stats`, and `Players` to link match information, player statistics, and player names.\\n3.  **Filters for Lionel Messi:**  Uses `WHERE P.player_name = \\'Lionel Messi\\'` to focus on Messi\\'s matches.\\n4.  **Orders by date:** Orders the results by `match_date` in descending order to get the most recent match first.\\n5.  **Limits to the last match:** Limits the results to 1 to get only the last match.\\n6.  **Selects Performance Data:** Selects `goals`, `assists`, and `minutes_played` (you can add more stats as needed) to analyze performance.\\n7.  **Subquery for Last 5 Matches:** Includes a subquery to attempt to pull the dates of the previous 5 matches.  This is a starting point; the optimal way to compare performance would depend on what specific stats are available in the `Player_Match_Stats` table. The subquery could be expanded to include the relevant statistics for the last 5 matches.\\n\\n**Note:** The results of the original query could not be provided because the query failed. To answer the question, the database needs to be queried with a functional SQL query. With the revised query and the actual data in the tables, I could provide a more complete answer.', 'search_result': \"Based on the search results, it appears there's some speculation about Lionel Messi's last match for Argentina. Some reports suggest his final official match on home soil might be against Venezuela on September 5th. However, to get the most accurate information about his recent performances, including his last match and a comparison with his previous five, I need to consult a sports database. Unfortunately, I don't have access to that kind of real-time, detailed sports statistics.\"}\n"
     ]
    },
    {
     "data": {
      "text/plain": [
       "{'messages': [HumanMessage(content='Tell me about Lionel Messi’s last match and compare with his last 5 performances.', additional_kwargs={}, response_metadata={}, id='d7543fa2-65cd-448e-bfde-14623b1280b6')],\n",
       " 'sql_result': 'The SQL query failed due to an \"ambiguous column name\" error. This means that the `match_id` column exists in both the `Matches` and `Player_Match_Stats` tables, and the query doesn\\'t specify which table to take it from.\\n\\nTo fix this, we need to explicitly specify the table for the `match_id` column in the SELECT statement.  We also need to select more information to compare performances. Here\\'s a revised SQL query that addresses the ambiguity and tries to retrieve relevant performance data:\\n\\nRevised SQL Query (to retrieve last match and compare with last 5, assuming relevant stats exist):\\n```sql\\nSELECT\\n    M.match_id,\\n    M.match_date,\\n    PMS.goals,\\n    PMS.assists,\\n    PMS.minutes_played,\\n    (SELECT match_date FROM Matches AS M2 JOIN Player_Match_Stats AS PMS2 ON M2.match_id = PMS2.match_id JOIN Players AS P2 ON PMS2.player_id = P2.player_id WHERE P2.player_name = \\'Lionel Messi\\' AND M2.match_date < M.match_date ORDER BY M2.match_date DESC LIMIT 5) AS last_5_matches\\nFROM\\n    Matches AS M\\nJOIN\\n    Player_Match_Stats AS PMS ON M.match_id = PMS.match_id\\nJOIN\\n    Players AS P ON PMS.player_id = P.player_id\\nWHERE\\n    P.player_name = \\'Lionel Messi\\'\\nORDER BY\\n    M.match_date DESC\\nLIMIT 1;\\n```\\n\\nThis query does the following:\\n\\n1.  **Specifies Table for `match_id` and `match_date`:**  Uses `M.match_id` and `M.match_date` to avoid ambiguity.\\n2.  **Joins all tables:**  Joins `Matches`, `Player_Match_Stats`, and `Players` to link match information, player statistics, and player names.\\n3.  **Filters for Lionel Messi:**  Uses `WHERE P.player_name = \\'Lionel Messi\\'` to focus on Messi\\'s matches.\\n4.  **Orders by date:** Orders the results by `match_date` in descending order to get the most recent match first.\\n5.  **Limits to the last match:** Limits the results to 1 to get only the last match.\\n6.  **Selects Performance Data:** Selects `goals`, `assists`, and `minutes_played` (you can add more stats as needed) to analyze performance.\\n7.  **Subquery for Last 5 Matches:** Includes a subquery to attempt to pull the dates of the previous 5 matches.  This is a starting point; the optimal way to compare performance would depend on what specific stats are available in the `Player_Match_Stats` table. The subquery could be expanded to include the relevant statistics for the last 5 matches.\\n\\n**Note:** The results of the original query could not be provided because the query failed. To answer the question, the database needs to be queried with a functional SQL query. With the revised query and the actual data in the tables, I could provide a more complete answer.',\n",
       " 'search_result': \"Based on the search results, it appears there's some speculation about Lionel Messi's last match for Argentina. Some reports suggest his final official match on home soil might be against Venezuela on September 5th. However, to get the most accurate information about his recent performances, including his last match and a comparison with his previous five, I need to consult a sports database. Unfortunately, I don't have access to that kind of real-time, detailed sports statistics.\"}"
      ]
     },
     "execution_count": 60,
     "metadata": {},
     "output_type": "execute_result"
    }
   ],
   "source": [
    "sports_analyst_agent.invoke(\n",
    "    Command(resume={\"feedback\": \"no\"}),\n",
    "    config=thread_config\n",
    ")"
   ]
  }
 ],
 "metadata": {
  "kernelspec": {
   "display_name": "agent",
   "language": "python",
   "name": "python3"
  },
  "language_info": {
   "codemirror_mode": {
    "name": "ipython",
    "version": 3
   },
   "file_extension": ".py",
   "mimetype": "text/x-python",
   "name": "python",
   "nbconvert_exporter": "python",
   "pygments_lexer": "ipython3",
   "version": "3.11.13"
  }
 },
 "nbformat": 4,
 "nbformat_minor": 5
}
